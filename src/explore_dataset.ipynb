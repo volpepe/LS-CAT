{
 "cells": [
  {
   "cell_type": "code",
   "execution_count": 1,
   "metadata": {},
   "outputs": [],
   "source": [
    "import numpy as np\n",
    "import pandas as pd\n",
    "import os.path as path\n",
    "\n",
    "data_path = \"../data/\"\n",
    "results_path = \"../results/archive/\"\n",
    "kernels = pd.read_csv(data_path+'kernel_list.csv')\n",
    "runtimes_path = results_path+\"T4_18-6-3_sm52.csv\"\n",
    "run_times = pd.DataFrame(columns=['path',\"function\",\"time\",'blocks','matrix'])\n",
    "if path.exists(runtimes_path):\n",
    "    run_times = pd.read_csv(runtimes_path,low_memory=False)\n",
    "    # Pathnames cleanup\n",
    "    run_times['path'] = run_times['path'].apply(lambda x: x.replace('step2/', data_path+'kernels/').replace('/main.cu', ''))"
   ]
  },
  {
   "cell_type": "markdown",
   "metadata": {},
   "source": [
    "Add the file path to the dataframe"
   ]
  },
  {
   "cell_type": "code",
   "execution_count": 2,
   "metadata": {},
   "outputs": [],
   "source": [
    "kernels['kernel_path'] = [data_path+\"kernels/\"+str(r[\"Repo\"])+\"/\"+str(r[\"underdirectory\"]) \n",
    "                        for _, r in kernels.iterrows()]"
   ]
  },
  {
   "cell_type": "markdown",
   "metadata": {},
   "source": [
    "Explore the dataset"
   ]
  },
  {
   "cell_type": "code",
   "execution_count": 3,
   "metadata": {},
   "outputs": [
    {
     "data": {
      "text/html": [
       "<div>\n",
       "<style scoped>\n",
       "    .dataframe tbody tr th:only-of-type {\n",
       "        vertical-align: middle;\n",
       "    }\n",
       "\n",
       "    .dataframe tbody tr th {\n",
       "        vertical-align: top;\n",
       "    }\n",
       "\n",
       "    .dataframe thead th {\n",
       "        text-align: right;\n",
       "    }\n",
       "</style>\n",
       "<table border=\"1\" class=\"dataframe\">\n",
       "  <thead>\n",
       "    <tr style=\"text-align: right;\">\n",
       "      <th></th>\n",
       "      <th>Repo</th>\n",
       "      <th>underdirectory</th>\n",
       "      <th>function</th>\n",
       "      <th>status</th>\n",
       "      <th>variables</th>\n",
       "      <th>kernel_path</th>\n",
       "    </tr>\n",
       "  </thead>\n",
       "  <tbody>\n",
       "    <tr>\n",
       "      <th>0</th>\n",
       "      <td>1</td>\n",
       "      <td>0</td>\n",
       "      <td>euclidean_kernel</td>\n",
       "      <td>runs</td>\n",
       "      <td>[('const float *', 'vg_a'), ('size_t', 'pitch_...</td>\n",
       "      <td>../data/kernels/1/0</td>\n",
       "    </tr>\n",
       "    <tr>\n",
       "      <th>1</th>\n",
       "      <td>1</td>\n",
       "      <td>1</td>\n",
       "      <td>euclidean_kernel_same</td>\n",
       "      <td>runs</td>\n",
       "      <td>[('const float *', 'vg_a'), ('size_t', 'pitch_...</td>\n",
       "      <td>../data/kernels/1/1</td>\n",
       "    </tr>\n",
       "    <tr>\n",
       "      <th>2</th>\n",
       "      <td>1</td>\n",
       "      <td>2</td>\n",
       "      <td>maximum_kernel</td>\n",
       "      <td>runs</td>\n",
       "      <td>[('const float *', 'vg_a'), ('size_t', 'pitch_...</td>\n",
       "      <td>../data/kernels/1/2</td>\n",
       "    </tr>\n",
       "    <tr>\n",
       "      <th>3</th>\n",
       "      <td>1</td>\n",
       "      <td>3</td>\n",
       "      <td>maximum_kernel_same</td>\n",
       "      <td>runs</td>\n",
       "      <td>[('const float *', 'vg_a'), ('size_t', 'pitch_...</td>\n",
       "      <td>../data/kernels/1/3</td>\n",
       "    </tr>\n",
       "    <tr>\n",
       "      <th>4</th>\n",
       "      <td>1</td>\n",
       "      <td>4</td>\n",
       "      <td>manhattan_kernel</td>\n",
       "      <td>runs</td>\n",
       "      <td>[('const float *', 'vg_a'), ('size_t', 'pitch_...</td>\n",
       "      <td>../data/kernels/1/4</td>\n",
       "    </tr>\n",
       "  </tbody>\n",
       "</table>\n",
       "</div>"
      ],
      "text/plain": [
       "   Repo  underdirectory               function status  \\\n",
       "0     1               0       euclidean_kernel   runs   \n",
       "1     1               1  euclidean_kernel_same   runs   \n",
       "2     1               2         maximum_kernel   runs   \n",
       "3     1               3    maximum_kernel_same   runs   \n",
       "4     1               4       manhattan_kernel   runs   \n",
       "\n",
       "                                           variables          kernel_path  \n",
       "0  [('const float *', 'vg_a'), ('size_t', 'pitch_...  ../data/kernels/1/0  \n",
       "1  [('const float *', 'vg_a'), ('size_t', 'pitch_...  ../data/kernels/1/1  \n",
       "2  [('const float *', 'vg_a'), ('size_t', 'pitch_...  ../data/kernels/1/2  \n",
       "3  [('const float *', 'vg_a'), ('size_t', 'pitch_...  ../data/kernels/1/3  \n",
       "4  [('const float *', 'vg_a'), ('size_t', 'pitch_...  ../data/kernels/1/4  "
      ]
     },
     "execution_count": 3,
     "metadata": {},
     "output_type": "execute_result"
    }
   ],
   "source": [
    "kernels.head()"
   ]
  },
  {
   "cell_type": "code",
   "execution_count": 4,
   "metadata": {},
   "outputs": [
    {
     "name": "stdout",
     "output_type": "stream",
     "text": [
      "20258\n"
     ]
    }
   ],
   "source": [
    "print(len(kernels))"
   ]
  },
  {
   "cell_type": "code",
   "execution_count": 5,
   "metadata": {},
   "outputs": [
    {
     "data": {
      "text/html": [
       "<div>\n",
       "<style scoped>\n",
       "    .dataframe tbody tr th:only-of-type {\n",
       "        vertical-align: middle;\n",
       "    }\n",
       "\n",
       "    .dataframe tbody tr th {\n",
       "        vertical-align: top;\n",
       "    }\n",
       "\n",
       "    .dataframe thead th {\n",
       "        text-align: right;\n",
       "    }\n",
       "</style>\n",
       "<table border=\"1\" class=\"dataframe\">\n",
       "  <thead>\n",
       "    <tr style=\"text-align: right;\">\n",
       "      <th></th>\n",
       "      <th>path</th>\n",
       "      <th>function</th>\n",
       "      <th>blocks</th>\n",
       "      <th>matrix</th>\n",
       "      <th>time</th>\n",
       "    </tr>\n",
       "  </thead>\n",
       "  <tbody>\n",
       "    <tr>\n",
       "      <th>0</th>\n",
       "      <td>../data/kernels/1/0</td>\n",
       "      <td>euclidean_kernel</td>\n",
       "      <td>(1, 1024)</td>\n",
       "      <td>(1016, 1016)</td>\n",
       "      <td>2970.211154</td>\n",
       "    </tr>\n",
       "    <tr>\n",
       "      <th>1</th>\n",
       "      <td>../data/kernels/1/0</td>\n",
       "      <td>euclidean_kernel</td>\n",
       "      <td>(1, 1024)</td>\n",
       "      <td>(1232, 1232)</td>\n",
       "      <td>2786.452857</td>\n",
       "    </tr>\n",
       "    <tr>\n",
       "      <th>2</th>\n",
       "      <td>../data/kernels/1/0</td>\n",
       "      <td>euclidean_kernel</td>\n",
       "      <td>(1, 1024)</td>\n",
       "      <td>(16, 16)</td>\n",
       "      <td>3124.981053</td>\n",
       "    </tr>\n",
       "    <tr>\n",
       "      <th>3</th>\n",
       "      <td>../data/kernels/1/0</td>\n",
       "      <td>euclidean_kernel</td>\n",
       "      <td>(1, 1024)</td>\n",
       "      <td>(1680, 1680)</td>\n",
       "      <td>2591.644286</td>\n",
       "    </tr>\n",
       "    <tr>\n",
       "      <th>4</th>\n",
       "      <td>../data/kernels/1/0</td>\n",
       "      <td>euclidean_kernel</td>\n",
       "      <td>(1, 1024)</td>\n",
       "      <td>(2024, 2024)</td>\n",
       "      <td>2476.894286</td>\n",
       "    </tr>\n",
       "  </tbody>\n",
       "</table>\n",
       "</div>"
      ],
      "text/plain": [
       "                  path          function     blocks        matrix         time\n",
       "0  ../data/kernels/1/0  euclidean_kernel  (1, 1024)  (1016, 1016)  2970.211154\n",
       "1  ../data/kernels/1/0  euclidean_kernel  (1, 1024)  (1232, 1232)  2786.452857\n",
       "2  ../data/kernels/1/0  euclidean_kernel  (1, 1024)      (16, 16)  3124.981053\n",
       "3  ../data/kernels/1/0  euclidean_kernel  (1, 1024)  (1680, 1680)  2591.644286\n",
       "4  ../data/kernels/1/0  euclidean_kernel  (1, 1024)  (2024, 2024)  2476.894286"
      ]
     },
     "execution_count": 5,
     "metadata": {},
     "output_type": "execute_result"
    }
   ],
   "source": [
    "run_times.head()"
   ]
  },
  {
   "cell_type": "markdown",
   "metadata": {},
   "source": [
    "The matrix sizes and block sizes that are reported are:"
   ]
  },
  {
   "cell_type": "code",
   "execution_count": 6,
   "metadata": {},
   "outputs": [],
   "source": [
    "allowed_blocks=['(8, 8)','(16, 16)'  ,'(24, 24)','(32, 32)','(1, 64)','(1, 128)',\n",
    "                '(1, 192)','(1, 256)','(1, 320)','(1, 384)','(1, 448)','(1, 512)',\n",
    "                '(1, 576)','(1, 640)','(1, 704)','(1, 768)','(1, 832)','(1, 896)',\n",
    "                '(1, 960)','(1, 1024)']\n",
    "allowed_matrix=['(240, 240)','(496, 496)','(784, 784)','(1016, 1016)',\n",
    "                '(1232, 1232)','(1680, 1680)','(2024, 2024)']"
   ]
  },
  {
   "cell_type": "code",
   "execution_count": 7,
   "metadata": {},
   "outputs": [],
   "source": [
    "ok_matrix = run_times[run_times['matrix'].isin(allowed_matrix)].index\n",
    "ok_block  = run_times[run_times['blocks'].isin(allowed_blocks)].index\n",
    "ok_index  = ok_matrix.intersection(ok_block)\n",
    "proc_run_times = run_times.iloc[ok_index]"
   ]
  },
  {
   "cell_type": "code",
   "execution_count": 8,
   "metadata": {},
   "outputs": [
    {
     "name": "stdout",
     "output_type": "stream",
     "text": [
      "Removed 402141 unrelated rows. Left 2531763 rows\n"
     ]
    }
   ],
   "source": [
    "print(f'Removed {len(run_times) - len(proc_run_times)} unrelated rows. Left {len(proc_run_times)} rows')"
   ]
  },
  {
   "cell_type": "markdown",
   "metadata": {},
   "source": [
    "Group columns to get times for each kernel-matrix_size-block combination"
   ]
  },
  {
   "cell_type": "code",
   "execution_count": 9,
   "metadata": {},
   "outputs": [],
   "source": [
    "df = proc_run_times.set_index(['path', 'function', 'matrix', 'blocks']).unstack('blocks')\n",
    "df = df.reindex(columns=sorted(df.columns, key=lambda x: x[::-1]))\n",
    "df.columns = ['block_{}'.format(t) for _, t in df.columns]"
   ]
  },
  {
   "cell_type": "markdown",
   "metadata": {},
   "source": [
    "Now we can index into this dataframe and get the times for each kernel-matrix id"
   ]
  },
  {
   "cell_type": "code",
   "execution_count": 10,
   "metadata": {},
   "outputs": [
    {
     "data": {
      "text/plain": [
       "block_(1, 1024)    0.997701\n",
       "block_(1, 128)     0.931484\n",
       "block_(1, 192)     0.889089\n",
       "block_(1, 256)     0.958916\n",
       "block_(1, 320)     0.961311\n",
       "block_(1, 384)     0.870674\n",
       "block_(1, 448)     0.988039\n",
       "block_(1, 512)     0.960920\n",
       "block_(1, 576)     0.972484\n",
       "block_(1, 64)      0.903603\n",
       "block_(1, 640)     0.994653\n",
       "block_(1, 704)     0.992841\n",
       "block_(1, 768)     0.968683\n",
       "block_(1, 832)     0.996149\n",
       "block_(1, 896)     0.937261\n",
       "block_(1, 960)     0.899451\n",
       "block_(16, 16)     1.000000\n",
       "block_(24, 24)     0.961750\n",
       "block_(32, 32)     0.929681\n",
       "block_(8, 8)       0.883821\n",
       "Name: (../data/kernels/1/15, gpuFindMax, (1680, 1680)), dtype: float64"
      ]
     },
     "execution_count": 10,
     "metadata": {},
     "output_type": "execute_result"
    }
   ],
   "source": [
    "(df.iloc[50].min() / df.iloc[50])"
   ]
  },
  {
   "cell_type": "markdown",
   "metadata": {},
   "source": [
    "The best time can be obtained as follows:"
   ]
  },
  {
   "cell_type": "code",
   "execution_count": 11,
   "metadata": {},
   "outputs": [
    {
     "data": {
      "text/plain": [
       "'block_(16, 16)'"
      ]
     },
     "execution_count": 11,
     "metadata": {},
     "output_type": "execute_result"
    }
   ],
   "source": [
    "(df.iloc[50].min() / df.iloc[50]).idxmax()"
   ]
  },
  {
   "cell_type": "markdown",
   "metadata": {},
   "source": [
    "or..."
   ]
  },
  {
   "cell_type": "code",
   "execution_count": 12,
   "metadata": {},
   "outputs": [
    {
     "data": {
      "text/plain": [
       "'block_(16, 16)'"
      ]
     },
     "execution_count": 12,
     "metadata": {},
     "output_type": "execute_result"
    }
   ],
   "source": [
    "(df.iloc[50]).idxmin()"
   ]
  },
  {
   "cell_type": "markdown",
   "metadata": {},
   "source": [
    "To get the information for the indexed element, we can use:"
   ]
  },
  {
   "cell_type": "code",
   "execution_count": 13,
   "metadata": {},
   "outputs": [
    {
     "data": {
      "text/plain": [
       "('../data/kernels/1/15', 'gpuFindMax', '(1680, 1680)')"
      ]
     },
     "execution_count": 13,
     "metadata": {},
     "output_type": "execute_result"
    }
   ],
   "source": [
    "df.iloc[50].name"
   ]
  },
  {
   "cell_type": "markdown",
   "metadata": {},
   "source": [
    "The second element is the function name, so we can use:"
   ]
  },
  {
   "cell_type": "code",
   "execution_count": 19,
   "metadata": {},
   "outputs": [
    {
     "data": {
      "text/html": [
       "<div>\n",
       "<style scoped>\n",
       "    .dataframe tbody tr th:only-of-type {\n",
       "        vertical-align: middle;\n",
       "    }\n",
       "\n",
       "    .dataframe tbody tr th {\n",
       "        vertical-align: top;\n",
       "    }\n",
       "\n",
       "    .dataframe thead th {\n",
       "        text-align: right;\n",
       "    }\n",
       "</style>\n",
       "<table border=\"1\" class=\"dataframe\">\n",
       "  <thead>\n",
       "    <tr style=\"text-align: right;\">\n",
       "      <th></th>\n",
       "      <th>Repo</th>\n",
       "      <th>underdirectory</th>\n",
       "      <th>function</th>\n",
       "      <th>status</th>\n",
       "      <th>variables</th>\n",
       "      <th>kernel_path</th>\n",
       "    </tr>\n",
       "  </thead>\n",
       "  <tbody>\n",
       "    <tr>\n",
       "      <th>15</th>\n",
       "      <td>1</td>\n",
       "      <td>15</td>\n",
       "      <td>gpuFindMax</td>\n",
       "      <td>runs</td>\n",
       "      <td>[('int', 'n'), ('float *', 'data'), ('int', 't...</td>\n",
       "      <td>../data/kernels/1/15</td>\n",
       "    </tr>\n",
       "  </tbody>\n",
       "</table>\n",
       "</div>"
      ],
      "text/plain": [
       "    Repo  underdirectory    function status  \\\n",
       "15     1              15  gpuFindMax   runs   \n",
       "\n",
       "                                            variables           kernel_path  \n",
       "15  [('int', 'n'), ('float *', 'data'), ('int', 't...  ../data/kernels/1/15  "
      ]
     },
     "execution_count": 19,
     "metadata": {},
     "output_type": "execute_result"
    }
   ],
   "source": [
    "kernels.loc[np.logical_and(kernels['function'] == df.iloc[50].name[1], kernels['kernel_path'] == df.iloc[50].name[0])]"
   ]
  }
 ],
 "metadata": {
  "kernelspec": {
   "display_name": "thesis",
   "language": "python",
   "name": "python3"
  },
  "language_info": {
   "codemirror_mode": {
    "name": "ipython",
    "version": 3
   },
   "file_extension": ".py",
   "mimetype": "text/x-python",
   "name": "python",
   "nbconvert_exporter": "python",
   "pygments_lexer": "ipython3",
   "version": "3.11.1"
  },
  "orig_nbformat": 4
 },
 "nbformat": 4,
 "nbformat_minor": 2
}
