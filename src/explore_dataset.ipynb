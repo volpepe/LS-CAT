{
 "cells": [
  {
   "cell_type": "code",
   "execution_count": 1,
   "metadata": {},
   "outputs": [],
   "source": [
    "import numpy as np\n",
    "import pandas as pd\n",
    "import os.path as path\n",
    "import random\n",
    "\n",
    "data_path = \"../data/\"\n",
    "results_path = \"../results/archive/\"\n",
    "kernels = pd.read_csv(data_path+'kernel_list.csv')\n",
    "runtimes_path = results_path+\"T4_18-6-3_sm52.csv\"\n",
    "run_times = pd.read_csv(runtimes_path,low_memory=False)\n",
    "# Pathnames cleanup\n",
    "run_times['path'] = run_times['path'].apply(lambda x: x.replace('step2/', data_path+'kernels/').replace('/main.cu', ''))"
   ]
  },
  {
   "cell_type": "markdown",
   "metadata": {},
   "source": [
    "Add the file path to the dataframe"
   ]
  },
  {
   "cell_type": "code",
   "execution_count": 2,
   "metadata": {},
   "outputs": [],
   "source": [
    "kernels['kernel_path'] = [data_path+\"kernels/\"+str(r[\"Repo\"])+\"/\"+str(r[\"underdirectory\"]) \n",
    "                        for _, r in kernels.iterrows()]"
   ]
  },
  {
   "cell_type": "markdown",
   "metadata": {},
   "source": [
    "Explore the dataset"
   ]
  },
  {
   "cell_type": "code",
   "execution_count": 3,
   "metadata": {},
   "outputs": [
    {
     "data": {
      "text/html": [
       "<div>\n",
       "<style scoped>\n",
       "    .dataframe tbody tr th:only-of-type {\n",
       "        vertical-align: middle;\n",
       "    }\n",
       "\n",
       "    .dataframe tbody tr th {\n",
       "        vertical-align: top;\n",
       "    }\n",
       "\n",
       "    .dataframe thead th {\n",
       "        text-align: right;\n",
       "    }\n",
       "</style>\n",
       "<table border=\"1\" class=\"dataframe\">\n",
       "  <thead>\n",
       "    <tr style=\"text-align: right;\">\n",
       "      <th></th>\n",
       "      <th>Repo</th>\n",
       "      <th>underdirectory</th>\n",
       "      <th>function</th>\n",
       "      <th>status</th>\n",
       "      <th>variables</th>\n",
       "      <th>kernel_path</th>\n",
       "    </tr>\n",
       "  </thead>\n",
       "  <tbody>\n",
       "    <tr>\n",
       "      <th>0</th>\n",
       "      <td>1</td>\n",
       "      <td>0</td>\n",
       "      <td>euclidean_kernel</td>\n",
       "      <td>runs</td>\n",
       "      <td>[('const float *', 'vg_a'), ('size_t', 'pitch_...</td>\n",
       "      <td>../data/kernels/1/0</td>\n",
       "    </tr>\n",
       "    <tr>\n",
       "      <th>1</th>\n",
       "      <td>1</td>\n",
       "      <td>1</td>\n",
       "      <td>euclidean_kernel_same</td>\n",
       "      <td>runs</td>\n",
       "      <td>[('const float *', 'vg_a'), ('size_t', 'pitch_...</td>\n",
       "      <td>../data/kernels/1/1</td>\n",
       "    </tr>\n",
       "    <tr>\n",
       "      <th>2</th>\n",
       "      <td>1</td>\n",
       "      <td>2</td>\n",
       "      <td>maximum_kernel</td>\n",
       "      <td>runs</td>\n",
       "      <td>[('const float *', 'vg_a'), ('size_t', 'pitch_...</td>\n",
       "      <td>../data/kernels/1/2</td>\n",
       "    </tr>\n",
       "    <tr>\n",
       "      <th>3</th>\n",
       "      <td>1</td>\n",
       "      <td>3</td>\n",
       "      <td>maximum_kernel_same</td>\n",
       "      <td>runs</td>\n",
       "      <td>[('const float *', 'vg_a'), ('size_t', 'pitch_...</td>\n",
       "      <td>../data/kernels/1/3</td>\n",
       "    </tr>\n",
       "    <tr>\n",
       "      <th>4</th>\n",
       "      <td>1</td>\n",
       "      <td>4</td>\n",
       "      <td>manhattan_kernel</td>\n",
       "      <td>runs</td>\n",
       "      <td>[('const float *', 'vg_a'), ('size_t', 'pitch_...</td>\n",
       "      <td>../data/kernels/1/4</td>\n",
       "    </tr>\n",
       "  </tbody>\n",
       "</table>\n",
       "</div>"
      ],
      "text/plain": [
       "   Repo  underdirectory               function status  \\\n",
       "0     1               0       euclidean_kernel   runs   \n",
       "1     1               1  euclidean_kernel_same   runs   \n",
       "2     1               2         maximum_kernel   runs   \n",
       "3     1               3    maximum_kernel_same   runs   \n",
       "4     1               4       manhattan_kernel   runs   \n",
       "\n",
       "                                           variables          kernel_path  \n",
       "0  [('const float *', 'vg_a'), ('size_t', 'pitch_...  ../data/kernels/1/0  \n",
       "1  [('const float *', 'vg_a'), ('size_t', 'pitch_...  ../data/kernels/1/1  \n",
       "2  [('const float *', 'vg_a'), ('size_t', 'pitch_...  ../data/kernels/1/2  \n",
       "3  [('const float *', 'vg_a'), ('size_t', 'pitch_...  ../data/kernels/1/3  \n",
       "4  [('const float *', 'vg_a'), ('size_t', 'pitch_...  ../data/kernels/1/4  "
      ]
     },
     "execution_count": 3,
     "metadata": {},
     "output_type": "execute_result"
    }
   ],
   "source": [
    "kernels.head()"
   ]
  },
  {
   "cell_type": "code",
   "execution_count": 4,
   "metadata": {},
   "outputs": [
    {
     "name": "stdout",
     "output_type": "stream",
     "text": [
      "20258\n"
     ]
    }
   ],
   "source": [
    "print(len(kernels))"
   ]
  },
  {
   "cell_type": "code",
   "execution_count": 5,
   "metadata": {},
   "outputs": [
    {
     "data": {
      "text/html": [
       "<div>\n",
       "<style scoped>\n",
       "    .dataframe tbody tr th:only-of-type {\n",
       "        vertical-align: middle;\n",
       "    }\n",
       "\n",
       "    .dataframe tbody tr th {\n",
       "        vertical-align: top;\n",
       "    }\n",
       "\n",
       "    .dataframe thead th {\n",
       "        text-align: right;\n",
       "    }\n",
       "</style>\n",
       "<table border=\"1\" class=\"dataframe\">\n",
       "  <thead>\n",
       "    <tr style=\"text-align: right;\">\n",
       "      <th></th>\n",
       "      <th>path</th>\n",
       "      <th>function</th>\n",
       "      <th>blocks</th>\n",
       "      <th>matrix</th>\n",
       "      <th>time</th>\n",
       "    </tr>\n",
       "  </thead>\n",
       "  <tbody>\n",
       "    <tr>\n",
       "      <th>0</th>\n",
       "      <td>../data/kernels/1/0</td>\n",
       "      <td>euclidean_kernel</td>\n",
       "      <td>(1, 1024)</td>\n",
       "      <td>(1016, 1016)</td>\n",
       "      <td>2970.211154</td>\n",
       "    </tr>\n",
       "    <tr>\n",
       "      <th>1</th>\n",
       "      <td>../data/kernels/1/0</td>\n",
       "      <td>euclidean_kernel</td>\n",
       "      <td>(1, 1024)</td>\n",
       "      <td>(1232, 1232)</td>\n",
       "      <td>2786.452857</td>\n",
       "    </tr>\n",
       "    <tr>\n",
       "      <th>2</th>\n",
       "      <td>../data/kernels/1/0</td>\n",
       "      <td>euclidean_kernel</td>\n",
       "      <td>(1, 1024)</td>\n",
       "      <td>(16, 16)</td>\n",
       "      <td>3124.981053</td>\n",
       "    </tr>\n",
       "    <tr>\n",
       "      <th>3</th>\n",
       "      <td>../data/kernels/1/0</td>\n",
       "      <td>euclidean_kernel</td>\n",
       "      <td>(1, 1024)</td>\n",
       "      <td>(1680, 1680)</td>\n",
       "      <td>2591.644286</td>\n",
       "    </tr>\n",
       "    <tr>\n",
       "      <th>4</th>\n",
       "      <td>../data/kernels/1/0</td>\n",
       "      <td>euclidean_kernel</td>\n",
       "      <td>(1, 1024)</td>\n",
       "      <td>(2024, 2024)</td>\n",
       "      <td>2476.894286</td>\n",
       "    </tr>\n",
       "  </tbody>\n",
       "</table>\n",
       "</div>"
      ],
      "text/plain": [
       "                  path          function     blocks        matrix         time\n",
       "0  ../data/kernels/1/0  euclidean_kernel  (1, 1024)  (1016, 1016)  2970.211154\n",
       "1  ../data/kernels/1/0  euclidean_kernel  (1, 1024)  (1232, 1232)  2786.452857\n",
       "2  ../data/kernels/1/0  euclidean_kernel  (1, 1024)      (16, 16)  3124.981053\n",
       "3  ../data/kernels/1/0  euclidean_kernel  (1, 1024)  (1680, 1680)  2591.644286\n",
       "4  ../data/kernels/1/0  euclidean_kernel  (1, 1024)  (2024, 2024)  2476.894286"
      ]
     },
     "execution_count": 5,
     "metadata": {},
     "output_type": "execute_result"
    }
   ],
   "source": [
    "run_times.head()"
   ]
  },
  {
   "cell_type": "markdown",
   "metadata": {},
   "source": [
    "Try to create a ProGraML graph from LLVM IR compiled kernels"
   ]
  },
  {
   "cell_type": "code",
   "execution_count": 6,
   "metadata": {},
   "outputs": [],
   "source": [
    "CREATE_GRAPHS = False"
   ]
  },
  {
   "cell_type": "code",
   "execution_count": 7,
   "metadata": {},
   "outputs": [
    {
     "name": "stderr",
     "output_type": "stream",
     "text": [
      "Using backend: pytorch\n"
     ]
    }
   ],
   "source": [
    "import programl\n",
    "import glob\n",
    "import os\n",
    "from tqdm import tqdm"
   ]
  },
  {
   "cell_type": "code",
   "execution_count": 8,
   "metadata": {},
   "outputs": [
    {
     "name": "stdout",
     "output_type": "stream",
     "text": [
      "Found 20044 LLVM-IR files\n",
      "Found 20043 graph files\n"
     ]
    }
   ],
   "source": [
    "files = glob.glob(os.path.join(data_path, 'kernels', '*', '*', '*.ll'), recursive=True)\n",
    "if CREATE_GRAPHS:\n",
    "    num_created_graphs = 0\n",
    "    print(f\"Found {len(files)} LLVM-IR files to convert\")\n",
    "    for i in tqdm(range(len(files))):\n",
    "        llvm_filename = files[i]\n",
    "        function_name = llvm_filename.split('/')[-1].split('.')[0]\n",
    "        kernel_path = os.path.dirname(llvm_filename)\n",
    "        graph_filename = os.path.join(kernel_path, f'{function_name}.graph')\n",
    "        if not os.path.exists(graph_filename):\n",
    "            # Open the LLVM-IR file\n",
    "            with open(files[i], 'r') as f:\n",
    "                llvm_program = f.read()\n",
    "            # Create the ProgramGraph object from the LLVM-IR. \n",
    "            # Use a timeout of 5 seconds to filter out large programs\n",
    "            # and avoid locks.\n",
    "            try:\n",
    "                graph = programl.from_llvm_ir(llvm_program, timeout=5)\n",
    "            # Write a representation of the graphs to a file\n",
    "            except TimeoutError:\n",
    "                print(f'Timeout while processing graph for {files[i]}')\n",
    "                continue\n",
    "            except programl.GraphCreationError as e:\n",
    "                print(f'Error while processing graph for {files[i]}: {e}')\n",
    "                continue\n",
    "            # Filter out graphs with only 1 node\n",
    "            if len(graph.node) > 1:\n",
    "                # If no error occured, write graph to file\n",
    "                programl.save_graphs(graph_filename, [graph])\n",
    "                # The graph was created successfully\n",
    "                num_created_graphs += 1\n",
    "else:\n",
    "    graph_files = glob.glob(os.path.join(data_path, 'kernels', '*', '*', '*.graph'), recursive=True)\n",
    "    print(f\"Found {len(files)} LLVM-IR files\")\n",
    "    print(f\"Found {len(graph_files)} graph files\")"
   ]
  },
  {
   "cell_type": "markdown",
   "metadata": {},
   "source": [
    "Create full list and small list of valid indexes to use in the kernels dataset and for each create their training and testval sets"
   ]
  },
  {
   "cell_type": "code",
   "execution_count": 9,
   "metadata": {},
   "outputs": [
    {
     "data": {
      "text/plain": [
       "(20043, 16034, 4009)"
      ]
     },
     "execution_count": 9,
     "metadata": {},
     "output_type": "execute_result"
    }
   ],
   "source": [
    "full_idxs = [   \n",
    "    i\n",
    "    for i, gpath in enumerate(\n",
    "    (kernels['kernel_path'] + os.sep + kernels['function'] + '.graph').unique())\n",
    "    if os.path.exists(gpath)\n",
    "]\n",
    "\n",
    "full_train = random.sample(full_idxs, int(len(full_idxs)*0.8))\n",
    "sfullt = set(full_train)\n",
    "full_test = [i for i in full_idxs if i not in sfullt]\n",
    "\n",
    "len(full_idxs), len(full_train), len(full_test)"
   ]
  },
  {
   "cell_type": "code",
   "execution_count": 10,
   "metadata": {},
   "outputs": [
    {
     "data": {
      "text/plain": [
       "(1000, 800, 200)"
      ]
     },
     "execution_count": 10,
     "metadata": {},
     "output_type": "execute_result"
    }
   ],
   "source": [
    "small_idxs = random.sample(full_idxs, 1000)\n",
    "\n",
    "small_train = random.sample(small_idxs, int(len(small_idxs)*0.8))\n",
    "ssmallt = set(small_train)\n",
    "small_test = [i for i in small_idxs if i not in ssmallt]\n",
    "\n",
    "len(small_idxs), len(small_train), len(small_test)"
   ]
  },
  {
   "cell_type": "code",
   "execution_count": 11,
   "metadata": {},
   "outputs": [],
   "source": [
    "import pickle\n",
    "import json\n",
    "\n",
    "with open('../data/full_idx_list.pickle', 'wb') as f:\n",
    "    pickle.dump(full_idxs, f)\n",
    "with open('../data/lscat_idxs.json', 'w') as f:\n",
    "    json.dump({'train': full_train, 'testval': full_test}, f)\n",
    "\n",
    "with open('../data/small_idx_list.pickle', 'wb') as f:\n",
    "    pickle.dump(small_idxs, f)\n",
    "with open('../data/small_lscat_idxs.json', 'w') as f:\n",
    "    json.dump({'train': small_train, 'testval': small_test}, f)"
   ]
  },
  {
   "cell_type": "code",
   "execution_count": 12,
   "metadata": {},
   "outputs": [],
   "source": [
    "kernels = kernels.iloc[full_idxs]"
   ]
  },
  {
   "cell_type": "markdown",
   "metadata": {},
   "source": [
    "The matrix sizes and block sizes that are reported are:"
   ]
  },
  {
   "cell_type": "code",
   "execution_count": 13,
   "metadata": {},
   "outputs": [],
   "source": [
    "allowed_blocks=['(8, 8)','(16, 16)'  ,'(24, 24)','(32, 32)','(1, 64)','(1, 128)',\n",
    "                '(1, 192)','(1, 256)','(1, 320)','(1, 384)','(1, 448)','(1, 512)',\n",
    "                '(1, 576)','(1, 640)','(1, 704)','(1, 768)','(1, 832)','(1, 896)',\n",
    "                '(1, 960)','(1, 1024)']\n",
    "allowed_matrix=['(240, 240)','(496, 496)','(784, 784)','(1016, 1016)',\n",
    "                '(1232, 1232)','(1680, 1680)','(2024, 2024)']"
   ]
  },
  {
   "cell_type": "code",
   "execution_count": 14,
   "metadata": {},
   "outputs": [],
   "source": [
    "ok_matrix = run_times[run_times['matrix'].isin(allowed_matrix)].index\n",
    "ok_block  = run_times[run_times['blocks'].isin(allowed_blocks)].index\n",
    "ok_index  = ok_matrix.intersection(ok_block)\n",
    "proc_run_times = run_times.iloc[ok_index]"
   ]
  },
  {
   "cell_type": "code",
   "execution_count": 15,
   "metadata": {},
   "outputs": [
    {
     "name": "stdout",
     "output_type": "stream",
     "text": [
      "Removed 402141 unrelated rows. Left 2531763 rows\n"
     ]
    }
   ],
   "source": [
    "print(f'Removed {len(run_times) - len(proc_run_times)} unrelated rows. Left {len(proc_run_times)} rows')"
   ]
  },
  {
   "cell_type": "code",
   "execution_count": 16,
   "metadata": {},
   "outputs": [
    {
     "name": "stdout",
     "output_type": "stream",
     "text": [
      "Removed 27605 unrelated rows. Left 2504158 rows\n"
     ]
    }
   ],
   "source": [
    "prior_len = len(proc_run_times)\n",
    "proc_run_times = proc_run_times.loc[np.logical_and(proc_run_times['path'].isin(kernels['kernel_path']),\n",
    "                                    proc_run_times['function'].isin(kernels['function']))]\n",
    "print(f'Removed {prior_len - len(proc_run_times)} unrelated rows. Left {len(proc_run_times)} rows')"
   ]
  },
  {
   "cell_type": "code",
   "execution_count": 213,
   "metadata": {},
   "outputs": [],
   "source": [
    "df = proc_run_times.set_index(['path', 'function', 'matrix', 'blocks']).unstack('blocks')\n",
    "df = df.reindex(columns=sorted(df.columns, key=lambda x: x[::-1]))\n",
    "df.columns = ['block_{}'.format(t) for _, t in df.columns]\n",
    "df.fillna(np.inf, inplace=True)"
   ]
  },
  {
   "cell_type": "code",
   "execution_count": 222,
   "metadata": {},
   "outputs": [
    {
     "data": {
      "text/html": [
       "<div>\n",
       "<style scoped>\n",
       "    .dataframe tbody tr th:only-of-type {\n",
       "        vertical-align: middle;\n",
       "    }\n",
       "\n",
       "    .dataframe tbody tr th {\n",
       "        vertical-align: top;\n",
       "    }\n",
       "\n",
       "    .dataframe thead th {\n",
       "        text-align: right;\n",
       "    }\n",
       "</style>\n",
       "<table border=\"1\" class=\"dataframe\">\n",
       "  <thead>\n",
       "    <tr style=\"text-align: right;\">\n",
       "      <th></th>\n",
       "      <th>block_(1, 1024)</th>\n",
       "      <th>block_(1, 128)</th>\n",
       "      <th>block_(1, 192)</th>\n",
       "      <th>block_(1, 256)</th>\n",
       "      <th>block_(1, 320)</th>\n",
       "      <th>block_(1, 384)</th>\n",
       "      <th>block_(1, 448)</th>\n",
       "      <th>block_(1, 512)</th>\n",
       "      <th>block_(1, 576)</th>\n",
       "      <th>block_(1, 64)</th>\n",
       "      <th>block_(1, 640)</th>\n",
       "      <th>block_(1, 704)</th>\n",
       "      <th>block_(1, 768)</th>\n",
       "      <th>block_(1, 832)</th>\n",
       "      <th>block_(1, 896)</th>\n",
       "      <th>block_(1, 960)</th>\n",
       "      <th>block_(16, 16)</th>\n",
       "      <th>block_(24, 24)</th>\n",
       "      <th>block_(32, 32)</th>\n",
       "      <th>block_(8, 8)</th>\n",
       "    </tr>\n",
       "  </thead>\n",
       "  <tbody>\n",
       "    <tr>\n",
       "      <th>scores</th>\n",
       "      <td>0.889278</td>\n",
       "      <td>0.200706</td>\n",
       "      <td>0.203355</td>\n",
       "      <td>0.0587</td>\n",
       "      <td>0.155228</td>\n",
       "      <td>0.217967</td>\n",
       "      <td>0.107404</td>\n",
       "      <td>0.019002</td>\n",
       "      <td>0.218687</td>\n",
       "      <td>0.227385</td>\n",
       "      <td>0.784427</td>\n",
       "      <td>0.903877</td>\n",
       "      <td>0.247189</td>\n",
       "      <td>0.987621</td>\n",
       "      <td>1.00</td>\n",
       "      <td>0.924597</td>\n",
       "      <td>0.279163</td>\n",
       "      <td>0.375211</td>\n",
       "      <td>0.071239</td>\n",
       "      <td>0.199088</td>\n",
       "    </tr>\n",
       "    <tr>\n",
       "      <th>times</th>\n",
       "      <td>2552.813333</td>\n",
       "      <td>2918.410000</td>\n",
       "      <td>2914.733333</td>\n",
       "      <td>3309.9000</td>\n",
       "      <td>2992.383333</td>\n",
       "      <td>2895.426667</td>\n",
       "      <td>3105.200000</td>\n",
       "      <td>3774.406667</td>\n",
       "      <td>2894.516667</td>\n",
       "      <td>2883.783333</td>\n",
       "      <td>2580.053333</td>\n",
       "      <td>2549.320000</td>\n",
       "      <td>2861.070000</td>\n",
       "      <td>2530.476667</td>\n",
       "      <td>2527.85</td>\n",
       "      <td>2544.473333</td>\n",
       "      <td>2828.616667</td>\n",
       "      <td>2752.716667</td>\n",
       "      <td>3241.426667</td>\n",
       "      <td>2920.683333</td>\n",
       "    </tr>\n",
       "  </tbody>\n",
       "</table>\n",
       "</div>"
      ],
      "text/plain": [
       "        block_(1, 1024)  block_(1, 128)  block_(1, 192)  block_(1, 256)  \\\n",
       "scores         0.889278        0.200706        0.203355          0.0587   \n",
       "times       2552.813333     2918.410000     2914.733333       3309.9000   \n",
       "\n",
       "        block_(1, 320)  block_(1, 384)  block_(1, 448)  block_(1, 512)  \\\n",
       "scores        0.155228        0.217967        0.107404        0.019002   \n",
       "times      2992.383333     2895.426667     3105.200000     3774.406667   \n",
       "\n",
       "        block_(1, 576)  block_(1, 64)  block_(1, 640)  block_(1, 704)  \\\n",
       "scores        0.218687       0.227385        0.784427        0.903877   \n",
       "times      2894.516667    2883.783333     2580.053333     2549.320000   \n",
       "\n",
       "        block_(1, 768)  block_(1, 832)  block_(1, 896)  block_(1, 960)  \\\n",
       "scores        0.247189        0.987621            1.00        0.924597   \n",
       "times      2861.070000     2530.476667         2527.85     2544.473333   \n",
       "\n",
       "        block_(16, 16)  block_(24, 24)  block_(32, 32)  block_(8, 8)  \n",
       "scores        0.279163        0.375211        0.071239      0.199088  \n",
       "times      2828.616667     2752.716667     3241.426667   2920.683333  "
      ]
     },
     "execution_count": 222,
     "metadata": {},
     "output_type": "execute_result"
    }
   ],
   "source": [
    "def get_labels(idx: int, const: float) -> np.ndarray:\n",
    "    row = proc_run_times.iloc[idx]\n",
    "    times = df.loc[row['path'], row['function'], row['matrix']]\n",
    "    # Transf. #1\n",
    "    s = times.min() / times\n",
    "    # Transf. #2\n",
    "    s = np.exp(s * const)\n",
    "    s /= np.sum(s)\n",
    "    s /= s.max()\n",
    "    return pd.DataFrame(data=[s, times], index=['scores', 'times'])\n",
    "\n",
    "get_labels(random.randint(0, len(proc_run_times)), 12)"
   ]
  }
 ],
 "metadata": {
  "kernelspec": {
   "display_name": "thesis",
   "language": "python",
   "name": "python3"
  },
  "language_info": {
   "codemirror_mode": {
    "name": "ipython",
    "version": 3
   },
   "file_extension": ".py",
   "mimetype": "text/x-python",
   "name": "python",
   "nbconvert_exporter": "python",
   "pygments_lexer": "ipython3",
   "version": "3.8.16"
  },
  "orig_nbformat": 4
 },
 "nbformat": 4,
 "nbformat_minor": 2
}
